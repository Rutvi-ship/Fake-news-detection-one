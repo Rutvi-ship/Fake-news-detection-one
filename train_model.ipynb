{
 "cells": [
  {
   "cell_type": "code",
   "execution_count": 5,
   "id": "2af54cc3",
   "metadata": {},
   "outputs": [],
   "source": [
    "import pandas as pd\n",
    "from sklearn.model_selection import train_test_split\n",
    "from sklearn.feature_extraction.text import TfidfVectorizer\n",
    "from sklearn.linear_model import LogisticRegression\n",
    "from sklearn.metrics import classification_report\n",
    "import re\n",
    "import joblib\n",
    "import string\n"
   ]
  },
  {
   "cell_type": "code",
   "execution_count": 6,
   "id": "3f012b6e",
   "metadata": {},
   "outputs": [
    {
     "data": {
      "text/html": [
       "<div>\n",
       "<style scoped>\n",
       "    .dataframe tbody tr th:only-of-type {\n",
       "        vertical-align: middle;\n",
       "    }\n",
       "\n",
       "    .dataframe tbody tr th {\n",
       "        vertical-align: top;\n",
       "    }\n",
       "\n",
       "    .dataframe thead th {\n",
       "        text-align: right;\n",
       "    }\n",
       "</style>\n",
       "<table border=\"1\" class=\"dataframe\">\n",
       "  <thead>\n",
       "    <tr style=\"text-align: right;\">\n",
       "      <th></th>\n",
       "      <th>title</th>\n",
       "      <th>text</th>\n",
       "      <th>subject</th>\n",
       "      <th>date</th>\n",
       "    </tr>\n",
       "  </thead>\n",
       "  <tbody>\n",
       "    <tr>\n",
       "      <th>0</th>\n",
       "      <td>Donald Trump Sends Out Embarrassing New Year’...</td>\n",
       "      <td>Donald Trump just couldn t wish all Americans ...</td>\n",
       "      <td>News</td>\n",
       "      <td>December 31, 2017</td>\n",
       "    </tr>\n",
       "    <tr>\n",
       "      <th>1</th>\n",
       "      <td>Drunk Bragging Trump Staffer Started Russian ...</td>\n",
       "      <td>House Intelligence Committee Chairman Devin Nu...</td>\n",
       "      <td>News</td>\n",
       "      <td>December 31, 2017</td>\n",
       "    </tr>\n",
       "    <tr>\n",
       "      <th>2</th>\n",
       "      <td>Sheriff David Clarke Becomes An Internet Joke...</td>\n",
       "      <td>On Friday, it was revealed that former Milwauk...</td>\n",
       "      <td>News</td>\n",
       "      <td>December 30, 2017</td>\n",
       "    </tr>\n",
       "    <tr>\n",
       "      <th>3</th>\n",
       "      <td>Trump Is So Obsessed He Even Has Obama’s Name...</td>\n",
       "      <td>On Christmas day, Donald Trump announced that ...</td>\n",
       "      <td>News</td>\n",
       "      <td>December 29, 2017</td>\n",
       "    </tr>\n",
       "    <tr>\n",
       "      <th>4</th>\n",
       "      <td>Pope Francis Just Called Out Donald Trump Dur...</td>\n",
       "      <td>Pope Francis used his annual Christmas Day mes...</td>\n",
       "      <td>News</td>\n",
       "      <td>December 25, 2017</td>\n",
       "    </tr>\n",
       "  </tbody>\n",
       "</table>\n",
       "</div>"
      ],
      "text/plain": [
       "                                               title  \\\n",
       "0   Donald Trump Sends Out Embarrassing New Year’...   \n",
       "1   Drunk Bragging Trump Staffer Started Russian ...   \n",
       "2   Sheriff David Clarke Becomes An Internet Joke...   \n",
       "3   Trump Is So Obsessed He Even Has Obama’s Name...   \n",
       "4   Pope Francis Just Called Out Donald Trump Dur...   \n",
       "\n",
       "                                                text subject  \\\n",
       "0  Donald Trump just couldn t wish all Americans ...    News   \n",
       "1  House Intelligence Committee Chairman Devin Nu...    News   \n",
       "2  On Friday, it was revealed that former Milwauk...    News   \n",
       "3  On Christmas day, Donald Trump announced that ...    News   \n",
       "4  Pope Francis used his annual Christmas Day mes...    News   \n",
       "\n",
       "                date  \n",
       "0  December 31, 2017  \n",
       "1  December 31, 2017  \n",
       "2  December 30, 2017  \n",
       "3  December 29, 2017  \n",
       "4  December 25, 2017  "
      ]
     },
     "execution_count": 6,
     "metadata": {},
     "output_type": "execute_result"
    }
   ],
   "source": [
    "fake = pd.read_csv('Fake.csv')\n",
    "true = pd.read_csv('True.csv')\n",
    "\n",
    "fake.head()\n"
   ]
  },
  {
   "cell_type": "code",
   "execution_count": 7,
   "id": "cfd08744",
   "metadata": {},
   "outputs": [
    {
     "data": {
      "text/html": [
       "<div>\n",
       "<style scoped>\n",
       "    .dataframe tbody tr th:only-of-type {\n",
       "        vertical-align: middle;\n",
       "    }\n",
       "\n",
       "    .dataframe tbody tr th {\n",
       "        vertical-align: top;\n",
       "    }\n",
       "\n",
       "    .dataframe thead th {\n",
       "        text-align: right;\n",
       "    }\n",
       "</style>\n",
       "<table border=\"1\" class=\"dataframe\">\n",
       "  <thead>\n",
       "    <tr style=\"text-align: right;\">\n",
       "      <th></th>\n",
       "      <th>title</th>\n",
       "      <th>text</th>\n",
       "      <th>subject</th>\n",
       "      <th>date</th>\n",
       "    </tr>\n",
       "  </thead>\n",
       "  <tbody>\n",
       "    <tr>\n",
       "      <th>0</th>\n",
       "      <td>As U.S. budget fight looms, Republicans flip t...</td>\n",
       "      <td>WASHINGTON (Reuters) - The head of a conservat...</td>\n",
       "      <td>politicsNews</td>\n",
       "      <td>December 31, 2017</td>\n",
       "    </tr>\n",
       "    <tr>\n",
       "      <th>1</th>\n",
       "      <td>U.S. military to accept transgender recruits o...</td>\n",
       "      <td>WASHINGTON (Reuters) - Transgender people will...</td>\n",
       "      <td>politicsNews</td>\n",
       "      <td>December 29, 2017</td>\n",
       "    </tr>\n",
       "    <tr>\n",
       "      <th>2</th>\n",
       "      <td>Senior U.S. Republican senator: 'Let Mr. Muell...</td>\n",
       "      <td>WASHINGTON (Reuters) - The special counsel inv...</td>\n",
       "      <td>politicsNews</td>\n",
       "      <td>December 31, 2017</td>\n",
       "    </tr>\n",
       "    <tr>\n",
       "      <th>3</th>\n",
       "      <td>FBI Russia probe helped by Australian diplomat...</td>\n",
       "      <td>WASHINGTON (Reuters) - Trump campaign adviser ...</td>\n",
       "      <td>politicsNews</td>\n",
       "      <td>December 30, 2017</td>\n",
       "    </tr>\n",
       "    <tr>\n",
       "      <th>4</th>\n",
       "      <td>Trump wants Postal Service to charge 'much mor...</td>\n",
       "      <td>SEATTLE/WASHINGTON (Reuters) - President Donal...</td>\n",
       "      <td>politicsNews</td>\n",
       "      <td>December 29, 2017</td>\n",
       "    </tr>\n",
       "  </tbody>\n",
       "</table>\n",
       "</div>"
      ],
      "text/plain": [
       "                                               title  \\\n",
       "0  As U.S. budget fight looms, Republicans flip t...   \n",
       "1  U.S. military to accept transgender recruits o...   \n",
       "2  Senior U.S. Republican senator: 'Let Mr. Muell...   \n",
       "3  FBI Russia probe helped by Australian diplomat...   \n",
       "4  Trump wants Postal Service to charge 'much mor...   \n",
       "\n",
       "                                                text       subject  \\\n",
       "0  WASHINGTON (Reuters) - The head of a conservat...  politicsNews   \n",
       "1  WASHINGTON (Reuters) - Transgender people will...  politicsNews   \n",
       "2  WASHINGTON (Reuters) - The special counsel inv...  politicsNews   \n",
       "3  WASHINGTON (Reuters) - Trump campaign adviser ...  politicsNews   \n",
       "4  SEATTLE/WASHINGTON (Reuters) - President Donal...  politicsNews   \n",
       "\n",
       "                 date  \n",
       "0  December 31, 2017   \n",
       "1  December 29, 2017   \n",
       "2  December 31, 2017   \n",
       "3  December 30, 2017   \n",
       "4  December 29, 2017   "
      ]
     },
     "execution_count": 7,
     "metadata": {},
     "output_type": "execute_result"
    }
   ],
   "source": [
    "true.head()"
   ]
  },
  {
   "cell_type": "code",
   "execution_count": 8,
   "id": "efeef441",
   "metadata": {},
   "outputs": [],
   "source": [
    "# adding a new column called \"class\" to each DataFrame\n",
    "fake['class'] = 0\n",
    "true['class'] = 1\n",
    "\n"
   ]
  },
  {
   "cell_type": "code",
   "execution_count": 9,
   "id": "f4cc6359",
   "metadata": {},
   "outputs": [],
   "source": [
    "# Combine both datasets\n",
    "data = pd.concat([fake, true], axis=0)"
   ]
  },
  {
   "cell_type": "code",
   "execution_count": 10,
   "id": "560dcf6d",
   "metadata": {},
   "outputs": [
    {
     "data": {
      "text/html": [
       "<div>\n",
       "<style scoped>\n",
       "    .dataframe tbody tr th:only-of-type {\n",
       "        vertical-align: middle;\n",
       "    }\n",
       "\n",
       "    .dataframe tbody tr th {\n",
       "        vertical-align: top;\n",
       "    }\n",
       "\n",
       "    .dataframe thead th {\n",
       "        text-align: right;\n",
       "    }\n",
       "</style>\n",
       "<table border=\"1\" class=\"dataframe\">\n",
       "  <thead>\n",
       "    <tr style=\"text-align: right;\">\n",
       "      <th></th>\n",
       "      <th>title</th>\n",
       "      <th>text</th>\n",
       "      <th>subject</th>\n",
       "      <th>date</th>\n",
       "      <th>class</th>\n",
       "    </tr>\n",
       "  </thead>\n",
       "  <tbody>\n",
       "    <tr>\n",
       "      <th>18059</th>\n",
       "      <td>New U.S. helicopters mark major change for Afg...</td>\n",
       "      <td>KANDAHAR, Afghanistan (Reuters) - Senior Afgha...</td>\n",
       "      <td>worldnews</td>\n",
       "      <td>October 7, 2017</td>\n",
       "      <td>1</td>\n",
       "    </tr>\n",
       "    <tr>\n",
       "      <th>4478</th>\n",
       "      <td>Bill Maher’s #DebateNight Live Tweetstorm Was...</td>\n",
       "      <td>It s no secret that Bill Maher, comedian extra...</td>\n",
       "      <td>News</td>\n",
       "      <td>September 27, 2016</td>\n",
       "      <td>0</td>\n",
       "    </tr>\n",
       "    <tr>\n",
       "      <th>15093</th>\n",
       "      <td>Katy Perry, Christina Aguilera, Kim and Kanye,...</td>\n",
       "      <td>There s so much diversity in the Democrat pres...</td>\n",
       "      <td>politics</td>\n",
       "      <td>Oct 13, 2015</td>\n",
       "      <td>0</td>\n",
       "    </tr>\n",
       "    <tr>\n",
       "      <th>11783</th>\n",
       "      <td>WATCH CHUCK SCHUMER FAKE CRY Over Muslim Polic...</td>\n",
       "      <td>Chuck Schumer s crying over Muslim refugees.Af...</td>\n",
       "      <td>politics</td>\n",
       "      <td>Jan 29, 2017</td>\n",
       "      <td>0</td>\n",
       "    </tr>\n",
       "    <tr>\n",
       "      <th>193</th>\n",
       "      <td>WATCH: John McCain Mocks President Bone Spurs...</td>\n",
       "      <td>Sen. John McCain, whose status as a war hero D...</td>\n",
       "      <td>News</td>\n",
       "      <td>October 23, 2017</td>\n",
       "      <td>0</td>\n",
       "    </tr>\n",
       "    <tr>\n",
       "      <th>16545</th>\n",
       "      <td>BOOM! Dodgers Baseball Radio Legend Drops A Mi...</td>\n",
       "      <td>This is totally out of left field! Vin Scully ...</td>\n",
       "      <td>Government News</td>\n",
       "      <td>Jun 19, 2016</td>\n",
       "      <td>0</td>\n",
       "    </tr>\n",
       "    <tr>\n",
       "      <th>17486</th>\n",
       "      <td>BREAKING: FBI ARREST STOPS Horrific San Franci...</td>\n",
       "      <td>Truck attacks are becoming increasingly popula...</td>\n",
       "      <td>left-news</td>\n",
       "      <td>Dec 23, 2017</td>\n",
       "      <td>0</td>\n",
       "    </tr>\n",
       "    <tr>\n",
       "      <th>22835</th>\n",
       "      <td>Tillerson to North Korea: ‘We Are Not Your Ene...</td>\n",
       "      <td>21st Century Wire says While everyone is busy ...</td>\n",
       "      <td>Middle-east</td>\n",
       "      <td>August 2, 2017</td>\n",
       "      <td>0</td>\n",
       "    </tr>\n",
       "    <tr>\n",
       "      <th>5793</th>\n",
       "      <td>Afghanistan War Vet Humiliates Republican Opp...</td>\n",
       "      <td>Thinking before you speak is basically a requi...</td>\n",
       "      <td>News</td>\n",
       "      <td>June 21, 2016</td>\n",
       "      <td>0</td>\n",
       "    </tr>\n",
       "    <tr>\n",
       "      <th>21014</th>\n",
       "      <td>THIRD DEGREE “BERN!” Why Denmark Is Telling Ma...</td>\n",
       "      <td>Lying? If Bernie can successfully convince ten...</td>\n",
       "      <td>left-news</td>\n",
       "      <td>Feb 10, 2016</td>\n",
       "      <td>0</td>\n",
       "    </tr>\n",
       "  </tbody>\n",
       "</table>\n",
       "</div>"
      ],
      "text/plain": [
       "                                                   title  \\\n",
       "18059  New U.S. helicopters mark major change for Afg...   \n",
       "4478    Bill Maher’s #DebateNight Live Tweetstorm Was...   \n",
       "15093  Katy Perry, Christina Aguilera, Kim and Kanye,...   \n",
       "11783  WATCH CHUCK SCHUMER FAKE CRY Over Muslim Polic...   \n",
       "193     WATCH: John McCain Mocks President Bone Spurs...   \n",
       "16545  BOOM! Dodgers Baseball Radio Legend Drops A Mi...   \n",
       "17486  BREAKING: FBI ARREST STOPS Horrific San Franci...   \n",
       "22835  Tillerson to North Korea: ‘We Are Not Your Ene...   \n",
       "5793    Afghanistan War Vet Humiliates Republican Opp...   \n",
       "21014  THIRD DEGREE “BERN!” Why Denmark Is Telling Ma...   \n",
       "\n",
       "                                                    text          subject  \\\n",
       "18059  KANDAHAR, Afghanistan (Reuters) - Senior Afgha...        worldnews   \n",
       "4478   It s no secret that Bill Maher, comedian extra...             News   \n",
       "15093  There s so much diversity in the Democrat pres...         politics   \n",
       "11783  Chuck Schumer s crying over Muslim refugees.Af...         politics   \n",
       "193    Sen. John McCain, whose status as a war hero D...             News   \n",
       "16545  This is totally out of left field! Vin Scully ...  Government News   \n",
       "17486  Truck attacks are becoming increasingly popula...        left-news   \n",
       "22835  21st Century Wire says While everyone is busy ...      Middle-east   \n",
       "5793   Thinking before you speak is basically a requi...             News   \n",
       "21014  Lying? If Bernie can successfully convince ten...        left-news   \n",
       "\n",
       "                     date  class  \n",
       "18059    October 7, 2017       1  \n",
       "4478   September 27, 2016      0  \n",
       "15093        Oct 13, 2015      0  \n",
       "11783        Jan 29, 2017      0  \n",
       "193      October 23, 2017      0  \n",
       "16545        Jun 19, 2016      0  \n",
       "17486        Dec 23, 2017      0  \n",
       "22835      August 2, 2017      0  \n",
       "5793        June 21, 2016      0  \n",
       "21014        Feb 10, 2016      0  "
      ]
     },
     "execution_count": 10,
     "metadata": {},
     "output_type": "execute_result"
    }
   ],
   "source": [
    "data.sample(10)"
   ]
  },
  {
   "cell_type": "code",
   "execution_count": 11,
   "id": "3520d81b",
   "metadata": {},
   "outputs": [
    {
     "name": "stdout",
     "output_type": "stream",
     "text": [
      "Index(['title', 'text', 'subject', 'date', 'class'], dtype='object')\n"
     ]
    }
   ],
   "source": [
    "print(data.columns)  # See all available columns"
   ]
  },
  {
   "cell_type": "code",
   "execution_count": 12,
   "id": "6c946a08",
   "metadata": {},
   "outputs": [],
   "source": [
    "columns_to_drop = [\"title\", \"subject\", \"date\"]\n",
    "existing_cols = [col for col in columns_to_drop if col in data.columns]\n",
    "data = data.drop(existing_cols, axis=1)\n"
   ]
  },
  {
   "cell_type": "code",
   "execution_count": 13,
   "id": "15dfb5ca",
   "metadata": {},
   "outputs": [
    {
     "name": "stdout",
     "output_type": "stream",
     "text": [
      "Index(['text', 'class'], dtype='object')\n"
     ]
    }
   ],
   "source": [
    "print(data.columns)\n"
   ]
  },
  {
   "cell_type": "code",
   "execution_count": null,
   "id": "487b304f",
   "metadata": {},
   "outputs": [],
   "source": []
  },
  {
   "cell_type": "code",
   "execution_count": 14,
   "id": "31bd81e6",
   "metadata": {},
   "outputs": [
    {
     "data": {
      "text/html": [
       "<div>\n",
       "<style scoped>\n",
       "    .dataframe tbody tr th:only-of-type {\n",
       "        vertical-align: middle;\n",
       "    }\n",
       "\n",
       "    .dataframe tbody tr th {\n",
       "        vertical-align: top;\n",
       "    }\n",
       "\n",
       "    .dataframe thead th {\n",
       "        text-align: right;\n",
       "    }\n",
       "</style>\n",
       "<table border=\"1\" class=\"dataframe\">\n",
       "  <thead>\n",
       "    <tr style=\"text-align: right;\">\n",
       "      <th></th>\n",
       "      <th>text</th>\n",
       "      <th>class</th>\n",
       "    </tr>\n",
       "  </thead>\n",
       "  <tbody>\n",
       "    <tr>\n",
       "      <th>47</th>\n",
       "      <td>WASHINGTON (Reuters) - U.S. Interior Secretary...</td>\n",
       "      <td>1</td>\n",
       "    </tr>\n",
       "    <tr>\n",
       "      <th>13331</th>\n",
       "      <td>BUENOS AIRES (Reuters) - Forensic scientists h...</td>\n",
       "      <td>1</td>\n",
       "    </tr>\n",
       "    <tr>\n",
       "      <th>5961</th>\n",
       "      <td>Donald Trump, the GOP candidate who has been c...</td>\n",
       "      <td>0</td>\n",
       "    </tr>\n",
       "    <tr>\n",
       "      <th>18741</th>\n",
       "      <td>ISTANBUL (Reuters) - Turkish prosecutors have ...</td>\n",
       "      <td>1</td>\n",
       "    </tr>\n",
       "    <tr>\n",
       "      <th>21199</th>\n",
       "      <td>Of course in their blind rage for the conserva...</td>\n",
       "      <td>0</td>\n",
       "    </tr>\n",
       "  </tbody>\n",
       "</table>\n",
       "</div>"
      ],
      "text/plain": [
       "                                                    text  class\n",
       "47     WASHINGTON (Reuters) - U.S. Interior Secretary...      1\n",
       "13331  BUENOS AIRES (Reuters) - Forensic scientists h...      1\n",
       "5961   Donald Trump, the GOP candidate who has been c...      0\n",
       "18741  ISTANBUL (Reuters) - Turkish prosecutors have ...      1\n",
       "21199  Of course in their blind rage for the conserva...      0"
      ]
     },
     "execution_count": 14,
     "metadata": {},
     "output_type": "execute_result"
    }
   ],
   "source": [
    "data.sample(5)"
   ]
  },
  {
   "cell_type": "code",
   "execution_count": 15,
   "id": "4daa26e5",
   "metadata": {},
   "outputs": [],
   "source": [
    "data.reset_index(inplace=True)\n",
    "\n",
    "\n"
   ]
  },
  {
   "cell_type": "code",
   "execution_count": 16,
   "id": "4500d231",
   "metadata": {},
   "outputs": [],
   "source": [
    "data.drop(['index'], axis=1, inplace=True)\n",
    "\n"
   ]
  },
  {
   "cell_type": "code",
   "execution_count": null,
   "id": "265251e4",
   "metadata": {},
   "outputs": [],
   "source": []
  },
  {
   "cell_type": "code",
   "execution_count": 17,
   "id": "8a848160",
   "metadata": {},
   "outputs": [
    {
     "data": {
      "text/html": [
       "<div>\n",
       "<style scoped>\n",
       "    .dataframe tbody tr th:only-of-type {\n",
       "        vertical-align: middle;\n",
       "    }\n",
       "\n",
       "    .dataframe tbody tr th {\n",
       "        vertical-align: top;\n",
       "    }\n",
       "\n",
       "    .dataframe thead th {\n",
       "        text-align: right;\n",
       "    }\n",
       "</style>\n",
       "<table border=\"1\" class=\"dataframe\">\n",
       "  <thead>\n",
       "    <tr style=\"text-align: right;\">\n",
       "      <th></th>\n",
       "      <th>text</th>\n",
       "      <th>class</th>\n",
       "    </tr>\n",
       "  </thead>\n",
       "  <tbody>\n",
       "    <tr>\n",
       "      <th>36286</th>\n",
       "      <td>DUBAI (Reuters) - A Western-backed Saudi-led c...</td>\n",
       "      <td>1</td>\n",
       "    </tr>\n",
       "    <tr>\n",
       "      <th>12142</th>\n",
       "      <td>OSU will receive more than $212 million in fed...</td>\n",
       "      <td>0</td>\n",
       "    </tr>\n",
       "    <tr>\n",
       "      <th>38854</th>\n",
       "      <td>(Reuters) - Saudi Arabia s Crown Prince Mohamm...</td>\n",
       "      <td>1</td>\n",
       "    </tr>\n",
       "    <tr>\n",
       "      <th>25663</th>\n",
       "      <td>(Reuters) - The chief executives of Intel Corp...</td>\n",
       "      <td>1</td>\n",
       "    </tr>\n",
       "    <tr>\n",
       "      <th>12011</th>\n",
       "      <td></td>\n",
       "      <td>0</td>\n",
       "    </tr>\n",
       "  </tbody>\n",
       "</table>\n",
       "</div>"
      ],
      "text/plain": [
       "                                                    text  class\n",
       "36286  DUBAI (Reuters) - A Western-backed Saudi-led c...      1\n",
       "12142  OSU will receive more than $212 million in fed...      0\n",
       "38854  (Reuters) - Saudi Arabia s Crown Prince Mohamm...      1\n",
       "25663  (Reuters) - The chief executives of Intel Corp...      1\n",
       "12011                                                         0"
      ]
     },
     "execution_count": 17,
     "metadata": {},
     "output_type": "execute_result"
    }
   ],
   "source": [
    "data.sample(5)"
   ]
  },
  {
   "cell_type": "code",
   "execution_count": null,
   "id": "382e59a2",
   "metadata": {},
   "outputs": [],
   "source": [
    "\n"
   ]
  },
  {
   "cell_type": "code",
   "execution_count": 18,
   "id": "2c206a3e",
   "metadata": {},
   "outputs": [],
   "source": [
    "def clean_text(text):\n",
    "    text = re.sub(r'http\\S+', '', text)  # Remove URLs\n",
    "    text = re.sub(r'[^A-Za-z\\s]', '', text)  # Remove punctuation/numbers\n",
    "    text = text.lower()\n",
    "    return text"
   ]
  },
  {
   "cell_type": "code",
   "execution_count": 19,
   "id": "95ab2ece",
   "metadata": {},
   "outputs": [],
   "source": [
    "data[\"text\"] = data[\"text\"].apply(clean_text)\n"
   ]
  },
  {
   "cell_type": "code",
   "execution_count": null,
   "id": "6355f3d9",
   "metadata": {},
   "outputs": [],
   "source": []
  },
  {
   "cell_type": "code",
   "execution_count": 20,
   "id": "6e556a95",
   "metadata": {},
   "outputs": [
    {
     "name": "stdout",
     "output_type": "stream",
     "text": [
      "0    donald trump just couldn t wish all americans ...\n",
      "1    house intelligence committee chairman devin nu...\n",
      "2    on friday it was revealed that former milwauke...\n",
      "3    on christmas day donald trump announced that h...\n",
      "4    pope francis used his annual christmas day mes...\n",
      "Name: text, dtype: object\n",
      "0\n"
     ]
    }
   ],
   "source": [
    "print(data[\"text\"].head())        # view cleaned text\n",
    "print(data[\"text\"].isnull().sum())  # check if any rows became null\n"
   ]
  },
  {
   "cell_type": "code",
   "execution_count": null,
   "id": "35d61ca4",
   "metadata": {},
   "outputs": [],
   "source": []
  },
  {
   "cell_type": "code",
   "execution_count": 21,
   "id": "a49d84fc",
   "metadata": {},
   "outputs": [
    {
     "data": {
      "text/html": [
       "<div>\n",
       "<style scoped>\n",
       "    .dataframe tbody tr th:only-of-type {\n",
       "        vertical-align: middle;\n",
       "    }\n",
       "\n",
       "    .dataframe tbody tr th {\n",
       "        vertical-align: top;\n",
       "    }\n",
       "\n",
       "    .dataframe thead th {\n",
       "        text-align: right;\n",
       "    }\n",
       "</style>\n",
       "<table border=\"1\" class=\"dataframe\">\n",
       "  <thead>\n",
       "    <tr style=\"text-align: right;\">\n",
       "      <th></th>\n",
       "      <th>text</th>\n",
       "      <th>class</th>\n",
       "    </tr>\n",
       "  </thead>\n",
       "  <tbody>\n",
       "    <tr>\n",
       "      <th>42687</th>\n",
       "      <td>singapore reuters  a singaporean bodybuilder h...</td>\n",
       "      <td>1</td>\n",
       "    </tr>\n",
       "    <tr>\n",
       "      <th>38881</th>\n",
       "      <td>moscow reuters  the kremlin said on wednesday ...</td>\n",
       "      <td>1</td>\n",
       "    </tr>\n",
       "    <tr>\n",
       "      <th>37705</th>\n",
       "      <td>tokyo reuters  a japanese man was killed in a ...</td>\n",
       "      <td>1</td>\n",
       "    </tr>\n",
       "    <tr>\n",
       "      <th>7209</th>\n",
       "      <td>republicans were handed a harsh reminder of ho...</td>\n",
       "      <td>0</td>\n",
       "    </tr>\n",
       "    <tr>\n",
       "      <th>21648</th>\n",
       "      <td>black lives matter but only when white cops ar...</td>\n",
       "      <td>0</td>\n",
       "    </tr>\n",
       "  </tbody>\n",
       "</table>\n",
       "</div>"
      ],
      "text/plain": [
       "                                                    text  class\n",
       "42687  singapore reuters  a singaporean bodybuilder h...      1\n",
       "38881  moscow reuters  the kremlin said on wednesday ...      1\n",
       "37705  tokyo reuters  a japanese man was killed in a ...      1\n",
       "7209   republicans were handed a harsh reminder of ho...      0\n",
       "21648  black lives matter but only when white cops ar...      0"
      ]
     },
     "execution_count": 21,
     "metadata": {},
     "output_type": "execute_result"
    }
   ],
   "source": [
    "data.sample(5)"
   ]
  },
  {
   "cell_type": "code",
   "execution_count": 17,
   "id": "a50bbe52",
   "metadata": {},
   "outputs": [],
   "source": [
    "x = data[\"text\"]\n",
    "y = data[\"class\"]\n",
    "xtrain, xtest, ytrain, ytest = train_test_split(x, y, test_size=0.25, random_state=42)\n"
   ]
  },
  {
   "cell_type": "code",
   "execution_count": 18,
   "id": "60addc4f",
   "metadata": {},
   "outputs": [
    {
     "name": "stdout",
     "output_type": "stream",
     "text": [
      "34830    seoul reuters  south korea predicted on tuesda...\n",
      "6018     beebe arkansas mayor mike robertson loves jesu...\n",
      "42549    new york reuters  eighty percent of the power ...\n",
      "8670     when the black lives matter movement started g...\n",
      "27243    washington reuters  the trump administrations ...\n",
      "Name: text, dtype: object\n",
      "34830    1\n",
      "6018     0\n",
      "42549    1\n",
      "8670     0\n",
      "27243    1\n",
      "Name: class, dtype: int64\n"
     ]
    }
   ],
   "source": [
    "print(xtrain.head())     # Shows the first 5 training text samples\n",
    "print(ytrain.head())     # Shows the corresponding labels (0 = fake, 1 = real)\n"
   ]
  },
  {
   "cell_type": "code",
   "execution_count": 19,
   "id": "c5078590",
   "metadata": {},
   "outputs": [],
   "source": [
    "# Cell 1: Vectorization using TF-IDF\n",
    "vectorizer = TfidfVectorizer()\n",
    "xv_train = vectorizer.fit_transform(xtrain)\n",
    "xv_test = vectorizer.transform(xtest)\n"
   ]
  },
  {
   "cell_type": "code",
   "execution_count": 20,
   "id": "d34e186a",
   "metadata": {},
   "outputs": [
    {
     "data": {
      "text/html": [
       "<style>#sk-container-id-1 {color: black;}#sk-container-id-1 pre{padding: 0;}#sk-container-id-1 div.sk-toggleable {background-color: white;}#sk-container-id-1 label.sk-toggleable__label {cursor: pointer;display: block;width: 100%;margin-bottom: 0;padding: 0.3em;box-sizing: border-box;text-align: center;}#sk-container-id-1 label.sk-toggleable__label-arrow:before {content: \"▸\";float: left;margin-right: 0.25em;color: #696969;}#sk-container-id-1 label.sk-toggleable__label-arrow:hover:before {color: black;}#sk-container-id-1 div.sk-estimator:hover label.sk-toggleable__label-arrow:before {color: black;}#sk-container-id-1 div.sk-toggleable__content {max-height: 0;max-width: 0;overflow: hidden;text-align: left;background-color: #f0f8ff;}#sk-container-id-1 div.sk-toggleable__content pre {margin: 0.2em;color: black;border-radius: 0.25em;background-color: #f0f8ff;}#sk-container-id-1 input.sk-toggleable__control:checked~div.sk-toggleable__content {max-height: 200px;max-width: 100%;overflow: auto;}#sk-container-id-1 input.sk-toggleable__control:checked~label.sk-toggleable__label-arrow:before {content: \"▾\";}#sk-container-id-1 div.sk-estimator input.sk-toggleable__control:checked~label.sk-toggleable__label {background-color: #d4ebff;}#sk-container-id-1 div.sk-label input.sk-toggleable__control:checked~label.sk-toggleable__label {background-color: #d4ebff;}#sk-container-id-1 input.sk-hidden--visually {border: 0;clip: rect(1px 1px 1px 1px);clip: rect(1px, 1px, 1px, 1px);height: 1px;margin: -1px;overflow: hidden;padding: 0;position: absolute;width: 1px;}#sk-container-id-1 div.sk-estimator {font-family: monospace;background-color: #f0f8ff;border: 1px dotted black;border-radius: 0.25em;box-sizing: border-box;margin-bottom: 0.5em;}#sk-container-id-1 div.sk-estimator:hover {background-color: #d4ebff;}#sk-container-id-1 div.sk-parallel-item::after {content: \"\";width: 100%;border-bottom: 1px solid gray;flex-grow: 1;}#sk-container-id-1 div.sk-label:hover label.sk-toggleable__label {background-color: #d4ebff;}#sk-container-id-1 div.sk-serial::before {content: \"\";position: absolute;border-left: 1px solid gray;box-sizing: border-box;top: 0;bottom: 0;left: 50%;z-index: 0;}#sk-container-id-1 div.sk-serial {display: flex;flex-direction: column;align-items: center;background-color: white;padding-right: 0.2em;padding-left: 0.2em;position: relative;}#sk-container-id-1 div.sk-item {position: relative;z-index: 1;}#sk-container-id-1 div.sk-parallel {display: flex;align-items: stretch;justify-content: center;background-color: white;position: relative;}#sk-container-id-1 div.sk-item::before, #sk-container-id-1 div.sk-parallel-item::before {content: \"\";position: absolute;border-left: 1px solid gray;box-sizing: border-box;top: 0;bottom: 0;left: 50%;z-index: -1;}#sk-container-id-1 div.sk-parallel-item {display: flex;flex-direction: column;z-index: 1;position: relative;background-color: white;}#sk-container-id-1 div.sk-parallel-item:first-child::after {align-self: flex-end;width: 50%;}#sk-container-id-1 div.sk-parallel-item:last-child::after {align-self: flex-start;width: 50%;}#sk-container-id-1 div.sk-parallel-item:only-child::after {width: 0;}#sk-container-id-1 div.sk-dashed-wrapped {border: 1px dashed gray;margin: 0 0.4em 0.5em 0.4em;box-sizing: border-box;padding-bottom: 0.4em;background-color: white;}#sk-container-id-1 div.sk-label label {font-family: monospace;font-weight: bold;display: inline-block;line-height: 1.2em;}#sk-container-id-1 div.sk-label-container {text-align: center;}#sk-container-id-1 div.sk-container {/* jupyter's `normalize.less` sets `[hidden] { display: none; }` but bootstrap.min.css set `[hidden] { display: none !important; }` so we also need the `!important` here to be able to override the default hidden behavior on the sphinx rendered scikit-learn.org. See: https://github.com/scikit-learn/scikit-learn/issues/21755 */display: inline-block !important;position: relative;}#sk-container-id-1 div.sk-text-repr-fallback {display: none;}</style><div id=\"sk-container-id-1\" class=\"sk-top-container\"><div class=\"sk-text-repr-fallback\"><pre>LogisticRegression()</pre><b>In a Jupyter environment, please rerun this cell to show the HTML representation or trust the notebook. <br />On GitHub, the HTML representation is unable to render, please try loading this page with nbviewer.org.</b></div><div class=\"sk-container\" hidden><div class=\"sk-item\"><div class=\"sk-estimator sk-toggleable\"><input class=\"sk-toggleable__control sk-hidden--visually\" id=\"sk-estimator-id-1\" type=\"checkbox\" checked><label for=\"sk-estimator-id-1\" class=\"sk-toggleable__label sk-toggleable__label-arrow\">LogisticRegression</label><div class=\"sk-toggleable__content\"><pre>LogisticRegression()</pre></div></div></div></div></div>"
      ],
      "text/plain": [
       "LogisticRegression()"
      ]
     },
     "execution_count": 20,
     "metadata": {},
     "output_type": "execute_result"
    }
   ],
   "source": [
    "lr = LogisticRegression()\n",
    "lr.fit(xv_train, ytrain)\n"
   ]
  },
  {
   "cell_type": "code",
   "execution_count": 21,
   "id": "81d1dd36",
   "metadata": {},
   "outputs": [
    {
     "data": {
      "text/plain": [
       "0.9899331848552338"
      ]
     },
     "execution_count": 21,
     "metadata": {},
     "output_type": "execute_result"
    }
   ],
   "source": [
    "prediction = lr.predict(xv_test)\n",
    "lr.score(xv_test, ytest)\n"
   ]
  },
  {
   "cell_type": "code",
   "execution_count": 22,
   "id": "690d4021",
   "metadata": {},
   "outputs": [
    {
     "name": "stdout",
     "output_type": "stream",
     "text": [
      "              precision    recall  f1-score   support\n",
      "\n",
      "           0       0.99      0.99      0.99      5895\n",
      "           1       0.99      0.99      0.99      5330\n",
      "\n",
      "    accuracy                           0.99     11225\n",
      "   macro avg       0.99      0.99      0.99     11225\n",
      "weighted avg       0.99      0.99      0.99     11225\n",
      "\n"
     ]
    }
   ],
   "source": [
    "from sklearn.metrics import classification_report\n",
    "\n",
    "print(classification_report(ytest, prediction))\n"
   ]
  },
  {
   "cell_type": "code",
   "execution_count": 23,
   "id": "9c7e3db3",
   "metadata": {},
   "outputs": [
    {
     "data": {
      "text/plain": [
       "['lr_model.joblib']"
      ]
     },
     "execution_count": 23,
     "metadata": {},
     "output_type": "execute_result"
    }
   ],
   "source": [
    "import joblib\n",
    "\n",
    "joblib.dump(vectorizer, \"vectorizer.joblib\")\n",
    "joblib.dump(lr, \"lr_model.joblib\")\n"
   ]
  },
  {
   "cell_type": "code",
   "execution_count": null,
   "id": "ef48f998",
   "metadata": {},
   "outputs": [
    {
     "data": {
      "image/png": "[encoded data removed]",
      "text/plain": [
       "<Figure size 700x500 with 1 Axes>"
      ]
     },
     "metadata": {},
     "output_type": "display_data"
    },
    {
     "data": {
      "image/png": "[encoded data removed]",
      "text/plain": [
       "<Figure size 700x500 with 1 Axes>"
      ]
     },
     "metadata": {},
     "output_type": "display_data"
    },
    {
     "name": "stdout",
     "output_type": "stream",
     "text": [
      "Done in 702.6s  |  CV=3, sizes=5, max_features=5000, n=44898\n"
     ]
    }
   ],
   "source": [
    "# === Learning Curves: Training vs Validation (Accuracy + Log Loss) ===\n",
    "\n",
    "import re, time\n",
    "import numpy as np\n",
    "import pandas as pd\n",
    "import matplotlib.pyplot as plt\n",
    "from sklearn.pipeline import Pipeline\n",
    "from sklearn.model_selection import learning_curve\n",
    "from sklearn.metrics import make_scorer, log_loss\n",
    "from sklearn.feature_extraction.text import TfidfVectorizer\n",
    "from sklearn.linear_model import LogisticRegression\n",
    "\n",
    "t0 = time.time()\n",
    "\n",
    "# Use your cleaned dataset\n",
    "texts  = data[\"text\"].astype(str).values\n",
    "labels = data[\"class\"].astype(int).values\n",
    "\n",
    "# ---- SPEED SETTINGS (tweak if needed) ----\n",
    "CV_FOLDS = 3          # 3-fold CV (faster than 5)\n",
    "N_SIZES  = 5          # number of training sizes (5 is enough for a nice curve)\n",
    "MAX_FEAT = 5000       # cap TF-IDF vocab to speed up\n",
    "# -----------------------------------------\n",
    "\n",
    "pipe = Pipeline([\n",
    "    (\"tfidf\", TfidfVectorizer(max_features=MAX_FEAT)),\n",
    "    (\"lr\", LogisticRegression(max_iter=200))\n",
    "])\n",
    "\n",
    "train_sizes = np.linspace(0.1, 1.0, N_SIZES)\n",
    "\n",
    "# Accuracy curve\n",
    "sizes_acc, train_acc, val_acc = learning_curve(\n",
    "    estimator=pipe,\n",
    "    X=texts, y=labels,\n",
    "    train_sizes=train_sizes,\n",
    "    cv=CV_FOLDS,\n",
    "    scoring=\"accuracy\",\n",
    "    n_jobs=-1,\n",
    "    shuffle=True,\n",
    "    random_state=42\n",
    ")\n",
    "\n",
    "# Log-loss curve (negative scorer -> flip sign)\n",
    "neg_ll = make_scorer(log_loss, needs_proba=True, greater_is_better=False)\n",
    "sizes_ll, train_negll, val_negll = learning_curve(\n",
    "    estimator=pipe,\n",
    "    X=texts, y=labels,\n",
    "    train_sizes=train_sizes,\n",
    "    cv=CV_FOLDS,\n",
    "    scoring=neg_ll,\n",
    "    n_jobs=-1,\n",
    "    shuffle=True,\n",
    "    random_state=42\n",
    ")\n",
    "train_ll = -train_negll\n",
    "val_ll   = -val_negll\n",
    "\n",
    "# --- Plot: Accuracy ---\n",
    "plt.figure(figsize=(7,5))\n",
    "plt.plot(sizes_acc, train_acc.mean(axis=1), marker='o', label='Train Accuracy')\n",
    "plt.plot(sizes_acc, val_acc.mean(axis=1), marker='o', label='Validation Accuracy')\n",
    "plt.xlabel('Training examples'); plt.ylabel('Accuracy')\n",
    "plt.title('Learning Curve — Accuracy')\n",
    "plt.grid(alpha=0.3); plt.legend(); plt.tight_layout(); plt.show()\n",
    "\n",
    "# --- Plot: Log Loss ---\n",
    "plt.figure(figsize=(7,5))\n",
    "plt.plot(sizes_ll, train_ll.mean(axis=1), marker='o', label='Train Log Loss')\n",
    "plt.plot(sizes_ll, val_ll.mean(axis=1), marker='o', label='Validation Log Loss')\n",
    "plt.xlabel('Training examples'); plt.ylabel('Log Loss (lower is better)')\n",
    "plt.title('Learning Curve — Log Loss')\n",
    "plt.grid(alpha=0.3); plt.legend(); plt.tight_layout(); plt.show()\n",
    "\n",
    "print(f\"Done in {time.time()-t0:.1f}s  |  CV={CV_FOLDS}, sizes={N_SIZES}, max_features={MAX_FEAT}, n={len(texts)}\")\n"
   ]
  }
 ],
 "metadata": {
  "kernelspec": {
   "display_name": "venv",
   "language": "python",
   "name": "python3"
  },
  "language_info": {
   "codemirror_mode": {
    "name": "ipython",
    "version": 3
   },
   "file_extension": ".py",
   "mimetype": "text/x-python",
   "name": "python",
   "nbconvert_exporter": "python",
   "pygments_lexer": "ipython3",
   "version": "3.11.4"
  }
 },
 "nbformat": 4,
 "nbformat_minor": 5
}
